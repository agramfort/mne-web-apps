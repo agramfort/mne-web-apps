{
 "cells": [
  {
   "cell_type": "markdown",
   "metadata": {},
   "source": [
    "# Evoked .fif files display\n",
    "\n",
    "This notebook shows how to display evoked data stored in .fif files.\n",
    "\n",
    "This application is relying on the [mne](https://mne.tools/stable/index.html)\n",
    "software.\n",
    "\n",
    "Upload an .fif file containing evoked data.\n",
    "\n",
    "There are some example files you can upload in the [GitHub repository](https://github.com/agramfort/mne-web-apps/tree/master/example-fif-evoked)."
   ]
  },
  {
   "cell_type": "code",
   "execution_count": 1,
   "metadata": {},
   "outputs": [],
   "source": [
    "%matplotlib widget\n",
    "import matplotlib.pyplot as plt\n",
    "plt.ioff()"
   ]
  },
  {
   "cell_type": "code",
   "execution_count": 3,
   "metadata": {},
   "outputs": [
    {
     "data": {
      "application/vnd.jupyter.widget-view+json": {
       "model_id": "ac1d017bdc414bd592d6033f26ef921e",
       "version_major": 2,
       "version_minor": 0
      },
      "text/plain": [
       "VBox(children=(HBox(children=(FileUpload(value={}, accept='*.fif', description='Upload'), Text(value=''))),))"
      ]
     },
     "metadata": {},
     "output_type": "display_data"
    }
   ],
   "source": [
    "# imports\n",
    "from traitlets import dlink\n",
    "import ipywidgets as widgets\n",
    "from IPython.display import display\n",
    "from io import BytesIO\n",
    "import mne\n",
    "\n",
    "# widgets\n",
    "file_picker = widgets.FileUpload(accept='*.fif')\n",
    "file_name = widgets.Text()\n",
    "#conditions = [\"0\", \"1\"]\n",
    "#conditions_rb = widgets.RadioButtons(\n",
    "#    options=conditions,\n",
    "#    description='Condition:',\n",
    "#    disabled=False,\n",
    "#)\n",
    "\n",
    "#vbox = widgets.VBox([widgets.HBox([file_picker, file_name]), conditions_rb])\n",
    "vbox = widgets.VBox([widgets.HBox([file_picker, file_name])])\n",
    "\n",
    "# display evoked file\n",
    "def show_evoked(file_content, condition=0):\n",
    "    # bridge: FileUpload - stl.mesh\n",
    "    content = next(iter(file_content.values()))['content']\n",
    "    \n",
    "    f = open('/tmp/temp-ave.fif', 'wb')\n",
    "    f.write(content)\n",
    "    f.close()\n",
    "    evoked = mne.read_evokeds('/tmp/temp-ave.fif', baseline=(None, 0))\n",
    "    fig = evoked[condition].plot(selectable=False, show=False)\n",
    "    return fig.canvas\n",
    "\n",
    "# get filename from FileUpload dict\n",
    "def get_name(file_upload):\n",
    "    if len(file_upload) == 0:\n",
    "        return ''\n",
    "    return next(iter(file_upload.values()))['metadata']['name']\n",
    "\n",
    "def change_input(change):\n",
    "    global vbox, file_picker, file_name, conditions_rb\n",
    "#    myevoked = show_evoked(file_picker.value, conditions_rb.value)\n",
    "    myevoked = show_evoked(file_picker.value)\n",
    "#    vbox.children = (widgets.HBox([file_picker, file_name]), conditions_rb, myevoked)\n",
    "    vbox.children = (widgets.HBox([file_picker, file_name]), myevoked)\n",
    "\n",
    "# links between widgets\n",
    "#conditions_rb.observe(change_input, 'value')\n",
    "dlink((file_picker, 'value'), (file_name, 'value'), get_name)\n",
    "file_picker.observe(change_input, 'value')\n",
    "\n",
    "vbox"
   ]
  },
  {
   "cell_type": "code",
   "execution_count": null,
   "metadata": {},
   "outputs": [],
   "source": []
  }
 ],
 "metadata": {
  "kernelspec": {
   "display_name": "Python 3",
   "language": "python",
   "name": "python3"
  },
  "language_info": {
   "codemirror_mode": {
    "name": "ipython",
    "version": 3
   },
   "file_extension": ".py",
   "mimetype": "text/x-python",
   "name": "python",
   "nbconvert_exporter": "python",
   "pygments_lexer": "ipython3",
   "version": "3.6.7"
  }
 },
 "nbformat": 4,
 "nbformat_minor": 2
}
